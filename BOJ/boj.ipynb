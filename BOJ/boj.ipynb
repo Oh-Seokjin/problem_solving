{
 "cells": [
  {
   "metadata": {
    "ExecuteTime": {
     "end_time": "2024-10-01T16:41:50.558991Z",
     "start_time": "2024-10-01T16:41:50.508376Z"
    }
   },
   "cell_type": "code",
   "source": [
    "def fish(j):\n",
    "    global board\n",
    "    for i in range(r):\n",
    "        if board[i][j] != []:\n",
    "            fish_value = board[i][j][0][2]\n",
    "            board[i][j] = []\n",
    "            return fish_value\n",
    "    return 0    \n",
    "\n",
    "def move():\n",
    "    global board\n",
    "    temp_board = [[[]] * c for _ in range(r)]\n",
    "\n",
    "    # 움직임\n",
    "    for i in range(r):\n",
    "        for j in range(c):\n",
    "            if board[i][j] != []:\n",
    "                if board[i][j][0][1] <= 2:\n",
    "                    t = vertical_fish(i, j, *board[i][j][0])\n",
    "                    if temp_board[t[0]][t[1]] == []:\n",
    "                        temp_board[t[0]][t[1]] = [(t[2], t[3], t[4])]\n",
    "                    else: \n",
    "                        temp_board[t[0]][t[1]].append((t[2], t[3], t[4]))\n",
    "                else:\n",
    "                    t = horizontal_fish(i, j, *board[i][j][0])\n",
    "                    if temp_board[t[0]][t[1]] == []:\n",
    "                        temp_board[t[0]][t[1]] = [(t[2], t[3], t[4])]\n",
    "                    else: \n",
    "                        temp_board[t[0]][t[1]].append((t[2], t[3], t[4]))\n",
    "                        \n",
    "    # 잡아먹음\n",
    "    for i in range(r):\n",
    "        for j in range(c):\n",
    "            if len(temp_board[i][j]) >= 2:\n",
    "                temp_board[i][j] = [(max(temp_board[i][j], key=lambda x: x[2]))]\n",
    "    \n",
    "    board = temp_board\n",
    "\n",
    "def vertical_fish(x, y, s, d, z):\n",
    "    for _ in range(s):\n",
    "        if d == 1 and x - 1 == -1:\n",
    "            d = 2\n",
    "        elif d == 2 and x + 1 == r:\n",
    "            d = 1\n",
    "            \n",
    "        if d == 1:\n",
    "            x -= 1\n",
    "        elif d == 2:            \n",
    "            x += 1\n",
    "    return (x, y, s, d, z)\n",
    "\n",
    "def horizontal_fish(x, y, s, d, z):\n",
    "    for _ in range(s):\n",
    "        if d == 3 and y + 1 == c:\n",
    "            d = 4\n",
    "        elif d == 4 and y - 1 == -1:\n",
    "            d = 3\n",
    "        \n",
    "        if d == 3:\n",
    "            y += 1\n",
    "        elif d == 4:\n",
    "            y -= 1\n",
    "    return (x, y, s, d, z)"
   ],
   "id": "8530f6313e18a5d4",
   "outputs": [],
   "execution_count": 27
  },
  {
   "metadata": {
    "ExecuteTime": {
     "end_time": "2024-10-01T16:41:51.073411Z",
     "start_time": "2024-10-01T16:41:51.052714Z"
    }
   },
   "cell_type": "code",
   "source": [
    "r, c, m = 4, 6, 8\n",
    "board = [[[], [], [(5, 2, 9)], [], [(8, 4, 3)], []],\n",
    "[[], [(2, 3, 5)], [], [(8, 4, 1)], [], []],\n",
    "[[], [], [(1, 2, 7)], [], [], [(2, 1, 2)]],\n",
    "[[(3, 3, 8)], [], [], [], [(0, 1, 4)], []]]\n",
    "answer = 0\n",
    "\n",
    "for j in range(c):\n",
    "    answer += fish(j)\n",
    "    move()\n",
    "\n",
    "print(answer)"
   ],
   "id": "a63da0c36db63a23",
   "outputs": [
    {
     "name": "stdout",
     "output_type": "stream",
     "text": [
      "22\n"
     ]
    }
   ],
   "execution_count": 28
  }
 ],
 "metadata": {
  "kernelspec": {
   "display_name": "Python 3",
   "language": "python",
   "name": "python3"
  },
  "language_info": {
   "codemirror_mode": {
    "name": "ipython",
    "version": 2
   },
   "file_extension": ".py",
   "mimetype": "text/x-python",
   "name": "python",
   "nbconvert_exporter": "python",
   "pygments_lexer": "ipython2",
   "version": "2.7.6"
  }
 },
 "nbformat": 4,
 "nbformat_minor": 5
}
